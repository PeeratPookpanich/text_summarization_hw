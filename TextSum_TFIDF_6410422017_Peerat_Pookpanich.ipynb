{
  "nbformat": 4,
  "nbformat_minor": 0,
  "metadata": {
    "colab": {
      "provenance": [],
      "include_colab_link": true
    },
    "kernelspec": {
      "name": "python3",
      "display_name": "Python 3"
    },
    "language_info": {
      "name": "python"
    }
  },
  "cells": [
    {
      "cell_type": "markdown",
      "metadata": {
        "id": "view-in-github",
        "colab_type": "text"
      },
      "source": [
        "<a href=\"https://colab.research.google.com/github/PeeratPookpanich/text_summarization_hw/blob/main/TextSum_TFIDF_6410422017_Peerat_Pookpanich.ipynb\" target=\"_parent\"><img src=\"https://colab.research.google.com/assets/colab-badge.svg\" alt=\"Open In Colab\"/></a>"
      ]
    },
    {
      "cell_type": "markdown",
      "source": [
        "#DADS7203 Natural Language Processing\n",
        "##6410422017 Peerat Pookpanich"
      ],
      "metadata": {
        "id": "FP_aXYuKtGUo"
      }
    },
    {
      "cell_type": "markdown",
      "source": [
        "## Import Data"
      ],
      "metadata": {
        "id": "xEu7A70urdfP"
      }
    },
    {
      "cell_type": "code",
      "source": [
        "import base64\n",
        "import requests\n",
        "\n",
        "url = \"https://raw.githubusercontent.com/PeeratPookpanich/text_summarization_hw/main/Transitioning%20from%20engineering%20to%20data%20science%20in%20Bangkok%20Thailand.txt\"\n",
        "article_content = requests.get(url)\n",
        "article_content = article_content.text\n",
        "print(article_content)"
      ],
      "metadata": {
        "colab": {
          "base_uri": "https://localhost:8080/"
        },
        "id": "fEE3AIs-rBd8",
        "outputId": "aa4f4fe1-aee3-476f-92da-b06ba18fe746"
      },
      "execution_count": null,
      "outputs": [
        {
          "output_type": "stream",
          "name": "stdout",
          "text": [
            "Data science is still the most attractive trend in Thailand nowadays. \r\n",
            "There are many open positions for data scientists, data engineers, and data-related roles compared to 2 years ago. \r\n",
            "I am one of the people who jumped into this field as well. I want to share with you guys my journey of switching into this field.\r\n",
            "\r\n",
            "The decision\r\n",
            "\r\n",
            "In 2017, I was a mechanical engineer who worked in the petrochemical factory in Rayong province, Thailand. \r\n",
            "Typically, I was making a presentation to the management team about why the machine failed or how to prevent the machine breakdown. \r\n",
            "At that time, I had a chance to utilize the data to ensure and answer most technical questions.\r\n",
            "\r\n",
            "One day, I realized that Rayong is not a place for me to settle down. \r\n",
            "I wanted to go back to Bangkok, so I need to find a way to relocate myself. \r\n",
            "I was searching for a job, and it was hard to find a good one because my background is in mechanical engineering, and it is not that many good engineering jobs were placed in Bangkok. \r\n",
            "As a result, I decide to switch from the engineering field to the data field.\r\n",
            "\r\n",
            "Getting started\r\n",
            "\r\n",
            "Firstly, I had gathered information about this field, which is quite new in Thailand at that time. \r\n",
            "I also started to take an online course to see whether the subject was the right choice for me to move further. \r\n",
            "Fortunately, I took the most famous machine learning course, “Machine learning” from Standford university. \r\n",
            "The course was taught by Andrew Ng (Founder of the Coursera platform). \r\n",
            "Due to the superb explanation from Andrew Ng, every complex thing seem easy to follow and made much fun at the same time. \r\n",
            "I decided to take several courses after that because I feel enjoyable in this new field.\r\n",
            "\r\n",
            "Secondly, I entered the platform called “Kaggle.” That was a real starting point towards the data science field for me. \r\n",
            "I enrolled in many competitions and learned how to write the data analytics code through the kernel. \r\n",
            "The kernel was a good resource for a newbie to learn as much as you want. \r\n",
            "Several kinds of kernels accelerate your data skills, such as Exploratory data analysis (EDA), Modeling, Ensemble, Stacking, and other special data processing tips and tricks.\r\n",
            "\r\n",
            "Also, I took a master's degree in applied statistics during the transition phase. \r\n",
            "I hope that a solid academic background can help me in landing the new opportunity. \r\n",
            "However, It is not that much importance as I expected to land the data science job. \r\n",
            "I would recommend anyone interested in this field to go for the Kaggle use cases or make it on your own. \r\n",
            "The solid use cases have a lot of importance here in convincing your interviewer.\r\n",
            "\r\n",
            "How long does it take?\r\n",
            "\r\n",
            "It took me about 8 to 9 months of studying and exploring the Kaggle platform before applying for a data scientist position. \r\n",
            "That was around the middle of 2018. In Thailand, there were not many open data scientist positions. \r\n",
            "Most of the analytics jobs remain in the Business intelligence and Analyst field. \r\n",
            "I thought Linkedin is a beneficial tool for you here in breaking into this field. \r\n",
            "In Thailand, many information technologies or data positions have been placed on Linkedin, and the recruiter is very active in finding the candidate for the job. \r\n",
            "I really recommend you guys to have it professionally.\r\n",
            "\r\n",
            "After submitted a lot of application, I interviewed several companies ranged from start-up to a limited company. \r\n",
            "I was lucky to have a chance to interview in the largest bank in Thailand, and I nailed it with the data scientist position. \r\n",
            "The Kaggle competition helps me a lot here in getting my first data scientist job because there was an interview test called “Data challenge” that you have a limited time to do the analytics/modeling tasks and present to the interviewer at the end of the day. \r\n",
            "The pattern and best practices I got from the Kaggle competition made me so confident and comfortable.\r\n",
            "\r\n",
            "What I’ve done so far\r\n",
            "\r\n",
            "Since then, I’ve been working as a data scientist/analyst for around 3 years. \r\n",
            "There are many areas I have been involved in, for example, lending, investment, insurance, hospitality, and commercial building, etc. \r\n",
            "The benefit of being a data scientist is that there are many chances to touch many business operations areas. On the other hand, the downside is that data is never cleaned. \r\n",
            "We have to spend most of the time sanitizing, exploring, understanding to extract meaningful insight. That makes me sad sometimes but the time spending worth the benefit of the analysis. \r\n",
            "It is so overwhelming when you see the metrics go up in the A/B testing period.\r\n",
            "\r\n",
            "The difference\r\n",
            "Compared to when I learned from the online course and taking the Kaggle competition. \r\n",
            "I want to point out the difference between before and after I got the job.\r\n",
            "\r\n",
            "The modeling part is the most exciting and enjoyable part of all the data science tasks, but the time I have spent on it is at most 20–30 % compared to the other tasks.\r\n",
            "\r\n",
            "Like everyone pointed out in the data science blog, the most time-consumed task is data cleaning, and I would like to expand the scope to data understanding and correction. \r\n",
            "All the pretty data frame that I have seen from the Kaggle competition is not what exists in the real-life scenario. \r\n",
            "I need to collaborate with many parties to reach the truth about the data we have to analyze. There are many things to be verified before we can make a decision based on that data. \r\n",
            "It is not like the Kaggle competition that we have provided completed meta-data to read. Sometimes, nobody knows the valid and exact number of the operation process because there never glance at the data at all.\r\n",
            "\r\n",
            "The second time-consumed task is the back and forth process between the data analytics team and the business operating unit. \r\n",
            "A lot of meetings and communication play a vital part here. You know that the requirement can be changed on the fly based on the person you present the analysis to. \r\n",
            "If they have a high position enough, they can request to add anything based on their preference. \r\n",
            "You have to convince and recommend them wisely so that we will go through the implementation phase smoothly.\r\n",
            "\r\n",
            "Knowing this difference could help you guys recalibrate the expectation of doing the data science job. \r\n",
            "I heard many people complaining about the scope of work that it is not that fun as they are expected or how long they have to wait before they can do the modeling. \r\n",
            "I hope this makes you get a clearer vision of data science daily life.\r\n",
            "\r\n",
            "What is next\r\n",
            "\r\n",
            "Now, The data field in Thailand has grown so much compared to 2 years ago. \r\n",
            "A lot of people have delivered their analytics use cases to the in-house business. \r\n",
            "The management team starts to realize the benefit of having the data team inside their own organization. \r\n",
            "Even if some have a misunderstanding about what the data can do, it is normal for those guys who are not in the technical fields.\r\n",
            "We need to keep telling them the right way to utilize the data and its importance for the business.\r\n",
            "\r\n",
            "For myself, I still enjoy with the day to day data operation and also look forward to expanding my expertise towards the data engineering discipline. \r\n",
            "When you know what the model could do, it is like you have magical tools to impact selling/recommending the products. \r\n",
            "However, it needs the correct data to be fed into the model to have a promising prediction result. \r\n",
            "Data engineering is the answer here to control the quality and integrity of the data pipeline. \r\n",
            "I hope this would be the right choice that leads me to the bright future ahead in this field.\r\n",
            "\r\n",
            "I hope this encourages you guys who are interested in switching their job/responsibility towards this field. \r\n",
            "I think this industry still needs many people and the community to make sustainable growth throughout the disruption. Let’s join and make the impact together.\n"
          ]
        }
      ]
    },
    {
      "cell_type": "code",
      "metadata": {
        "id": "aRpW48RpT-qp",
        "colab": {
          "base_uri": "https://localhost:8080/"
        },
        "outputId": "5028eac5-82fb-4622-f873-7538e19075b6"
      },
      "source": [
        "from nltk.corpus import stopwords\n",
        "from nltk.stem import PorterStemmer\n",
        "from nltk.tokenize import word_tokenize, sent_tokenize\n",
        "import nltk\n",
        "import re\n",
        "nltk.download('stopwords')\n"
      ],
      "execution_count": null,
      "outputs": [
        {
          "output_type": "stream",
          "name": "stderr",
          "text": [
            "[nltk_data] Downloading package stopwords to /root/nltk_data...\n",
            "[nltk_data]   Package stopwords is already up-to-date!\n"
          ]
        },
        {
          "output_type": "execute_result",
          "data": {
            "text/plain": [
              "True"
            ]
          },
          "metadata": {},
          "execution_count": 25
        }
      ]
    },
    {
      "cell_type": "markdown",
      "source": [
        "## Data Cleansing"
      ],
      "metadata": {
        "id": "Vp2W3Fc8rhbt"
      }
    },
    {
      "cell_type": "code",
      "metadata": {
        "id": "S7l8RyMCUJUt"
      },
      "source": [
        "def _create_dictionary_table(text) -> dict:\n",
        "  text = re.sub(r'(http|http(s)?://)?([\\w-]+\\.)+[\\w-]+[.com|.in|.org]+(\\[\\?%&=]*)?','',text)\n",
        "  text = re.sub(r'\\<a href', ' ', text)\n",
        "  text = re.sub(r'&amp;', '', text) \n",
        "  text = re.sub(r'\\&\\=\\*\\$\\-', ' ', text)\n",
        "  text = re.sub(r'[_\";%(),!?:#@\\[\\]/]', '', text)\n",
        "  text = re.sub(r'<br />', ' ', text)\n",
        "  text = re.sub(r'\\\\', '', text)\n",
        "  text = re.sub(r'/\\n', '', text)\n",
        "  # Removing stop words\n",
        "  stop_words = set(stopwords.words(\"english\"))\n",
        "  words = word_tokenize(text)\n",
        "  # Reducing words to their root form\n",
        "  stem = PorterStemmer()\n",
        "  # Creating dictionary for the word frequency table\n",
        "  frequency_table = dict()\n",
        "  for wd in words:\n",
        "      wd = stem.stem(wd)\n",
        "      if wd in stop_words:\n",
        "          continue\n",
        "      if wd in frequency_table:\n",
        "          frequency_table[wd] += 1\n",
        "      else:\n",
        "          frequency_table[wd] = 1\n",
        "\n",
        "  return frequency_table\n",
        "#_create_dictionary_table(article_content)"
      ],
      "execution_count": null,
      "outputs": []
    },
    {
      "cell_type": "markdown",
      "metadata": {
        "id": "hwtRX15C4DZP"
      },
      "source": [
        "**Tokenizing the article into sentences**\n"
      ]
    },
    {
      "cell_type": "code",
      "metadata": {
        "id": "l0tOKBEbWARc",
        "colab": {
          "base_uri": "https://localhost:8080/"
        },
        "outputId": "06e881c4-8f0f-47e2-df88-b3f07423e6a9"
      },
      "source": [
        "nltk.download('punkt')\n",
        "sentences = sent_tokenize(article_content)\n",
        "sentences"
      ],
      "execution_count": null,
      "outputs": [
        {
          "output_type": "stream",
          "name": "stderr",
          "text": [
            "[nltk_data] Downloading package punkt to /root/nltk_data...\n",
            "[nltk_data]   Package punkt is already up-to-date!\n"
          ]
        },
        {
          "output_type": "execute_result",
          "data": {
            "text/plain": [
              "['Data science is still the most attractive trend in Thailand nowadays.',\n",
              " 'There are many open positions for data scientists, data engineers, and data-related roles compared to 2 years ago.',\n",
              " 'I am one of the people who jumped into this field as well.',\n",
              " 'I want to share with you guys my journey of switching into this field.',\n",
              " 'The decision\\r\\n\\r\\nIn 2017, I was a mechanical engineer who worked in the petrochemical factory in Rayong province, Thailand.',\n",
              " 'Typically, I was making a presentation to the management team about why the machine failed or how to prevent the machine breakdown.',\n",
              " 'At that time, I had a chance to utilize the data to ensure and answer most technical questions.',\n",
              " 'One day, I realized that Rayong is not a place for me to settle down.',\n",
              " 'I wanted to go back to Bangkok, so I need to find a way to relocate myself.',\n",
              " 'I was searching for a job, and it was hard to find a good one because my background is in mechanical engineering, and it is not that many good engineering jobs were placed in Bangkok.',\n",
              " 'As a result, I decide to switch from the engineering field to the data field.',\n",
              " 'Getting started\\r\\n\\r\\nFirstly, I had gathered information about this field, which is quite new in Thailand at that time.',\n",
              " 'I also started to take an online course to see whether the subject was the right choice for me to move further.',\n",
              " 'Fortunately, I took the most famous machine learning course, “Machine learning” from Standford university.',\n",
              " 'The course was taught by Andrew Ng (Founder of the Coursera platform).',\n",
              " 'Due to the superb explanation from Andrew Ng, every complex thing seem easy to follow and made much fun at the same time.',\n",
              " 'I decided to take several courses after that because I feel enjoyable in this new field.',\n",
              " 'Secondly, I entered the platform called “Kaggle.” That was a real starting point towards the data science field for me.',\n",
              " 'I enrolled in many competitions and learned how to write the data analytics code through the kernel.',\n",
              " 'The kernel was a good resource for a newbie to learn as much as you want.',\n",
              " 'Several kinds of kernels accelerate your data skills, such as Exploratory data analysis (EDA), Modeling, Ensemble, Stacking, and other special data processing tips and tricks.',\n",
              " \"Also, I took a master's degree in applied statistics during the transition phase.\",\n",
              " 'I hope that a solid academic background can help me in landing the new opportunity.',\n",
              " 'However, It is not that much importance as I expected to land the data science job.',\n",
              " 'I would recommend anyone interested in this field to go for the Kaggle use cases or make it on your own.',\n",
              " 'The solid use cases have a lot of importance here in convincing your interviewer.',\n",
              " 'How long does it take?',\n",
              " 'It took me about 8 to 9 months of studying and exploring the Kaggle platform before applying for a data scientist position.',\n",
              " 'That was around the middle of 2018.',\n",
              " 'In Thailand, there were not many open data scientist positions.',\n",
              " 'Most of the analytics jobs remain in the Business intelligence and Analyst field.',\n",
              " 'I thought Linkedin is a beneficial tool for you here in breaking into this field.',\n",
              " 'In Thailand, many information technologies or data positions have been placed on Linkedin, and the recruiter is very active in finding the candidate for the job.',\n",
              " 'I really recommend you guys to have it professionally.',\n",
              " 'After submitted a lot of application, I interviewed several companies ranged from start-up to a limited company.',\n",
              " 'I was lucky to have a chance to interview in the largest bank in Thailand, and I nailed it with the data scientist position.',\n",
              " 'The Kaggle competition helps me a lot here in getting my first data scientist job because there was an interview test called “Data challenge” that you have a limited time to do the analytics/modeling tasks and present to the interviewer at the end of the day.',\n",
              " 'The pattern and best practices I got from the Kaggle competition made me so confident and comfortable.',\n",
              " 'What I’ve done so far\\r\\n\\r\\nSince then, I’ve been working as a data scientist/analyst for around 3 years.',\n",
              " 'There are many areas I have been involved in, for example, lending, investment, insurance, hospitality, and commercial building, etc.',\n",
              " 'The benefit of being a data scientist is that there are many chances to touch many business operations areas.',\n",
              " 'On the other hand, the downside is that data is never cleaned.',\n",
              " 'We have to spend most of the time sanitizing, exploring, understanding to extract meaningful insight.',\n",
              " 'That makes me sad sometimes but the time spending worth the benefit of the analysis.',\n",
              " 'It is so overwhelming when you see the metrics go up in the A/B testing period.',\n",
              " 'The difference\\r\\nCompared to when I learned from the online course and taking the Kaggle competition.',\n",
              " 'I want to point out the difference between before and after I got the job.',\n",
              " 'The modeling part is the most exciting and enjoyable part of all the data science tasks, but the time I have spent on it is at most 20–30 % compared to the other tasks.',\n",
              " 'Like everyone pointed out in the data science blog, the most time-consumed task is data cleaning, and I would like to expand the scope to data understanding and correction.',\n",
              " 'All the pretty data frame that I have seen from the Kaggle competition is not what exists in the real-life scenario.',\n",
              " 'I need to collaborate with many parties to reach the truth about the data we have to analyze.',\n",
              " 'There are many things to be verified before we can make a decision based on that data.',\n",
              " 'It is not like the Kaggle competition that we have provided completed meta-data to read.',\n",
              " 'Sometimes, nobody knows the valid and exact number of the operation process because there never glance at the data at all.',\n",
              " 'The second time-consumed task is the back and forth process between the data analytics team and the business operating unit.',\n",
              " 'A lot of meetings and communication play a vital part here.',\n",
              " 'You know that the requirement can be changed on the fly based on the person you present the analysis to.',\n",
              " 'If they have a high position enough, they can request to add anything based on their preference.',\n",
              " 'You have to convince and recommend them wisely so that we will go through the implementation phase smoothly.',\n",
              " 'Knowing this difference could help you guys recalibrate the expectation of doing the data science job.',\n",
              " 'I heard many people complaining about the scope of work that it is not that fun as they are expected or how long they have to wait before they can do the modeling.',\n",
              " 'I hope this makes you get a clearer vision of data science daily life.',\n",
              " 'What is next\\r\\n\\r\\nNow, The data field in Thailand has grown so much compared to 2 years ago.',\n",
              " 'A lot of people have delivered their analytics use cases to the in-house business.',\n",
              " 'The management team starts to realize the benefit of having the data team inside their own organization.',\n",
              " 'Even if some have a misunderstanding about what the data can do, it is normal for those guys who are not in the technical fields.',\n",
              " 'We need to keep telling them the right way to utilize the data and its importance for the business.',\n",
              " 'For myself, I still enjoy with the day to day data operation and also look forward to expanding my expertise towards the data engineering discipline.',\n",
              " 'When you know what the model could do, it is like you have magical tools to impact selling/recommending the products.',\n",
              " 'However, it needs the correct data to be fed into the model to have a promising prediction result.',\n",
              " 'Data engineering is the answer here to control the quality and integrity of the data pipeline.',\n",
              " 'I hope this would be the right choice that leads me to the bright future ahead in this field.',\n",
              " 'I hope this encourages you guys who are interested in switching their job/responsibility towards this field.',\n",
              " 'I think this industry still needs many people and the community to make sustainable growth throughout the disruption.',\n",
              " 'Let’s join and make the impact together.']"
            ]
          },
          "metadata": {},
          "execution_count": 27
        }
      ]
    },
    {
      "cell_type": "markdown",
      "metadata": {
        "id": "yboyUyYW4K1v"
      },
      "source": [
        "**Finding the weighted frequencies of the sentences**"
      ]
    },
    {
      "cell_type": "code",
      "metadata": {
        "id": "eJDigBJjFiI_",
        "colab": {
          "base_uri": "https://localhost:8080/"
        },
        "outputId": "d30de496-7f20-4ca4-fe78-2593f57f1eb8"
      },
      "source": [
        "def _calculate_sentence_scores(sentences, frequency_table) -> dict:   \n",
        "\n",
        "    # Algorithm for scoring a sentence by its words\n",
        "    sentence_weight = dict()\n",
        "\n",
        "    for sentence in sentences:\n",
        "        sentence_wordcount = (len(word_tokenize(sentence)))\n",
        "        sentence_wordcount_without_stop_words = 0\n",
        "        for word_weight in frequency_table:\n",
        "            if word_weight in sentence.lower():\n",
        "                sentence_wordcount_without_stop_words += 1\n",
        "                if sentence in sentence_weight:\n",
        "                    sentence_weight[sentence] += frequency_table[word_weight]\n",
        "                else:\n",
        "                    sentence_weight[sentence] = frequency_table[word_weight]\n",
        "\n",
        "        sentence_weight[sentence] = sentence_weight[sentence] / sentence_wordcount_without_stop_words\n",
        "        #To ensure long sentences do not have unnecessarily high scores over short sentences\n",
        "      \n",
        "    return sentence_weight\n",
        "_calculate_sentence_scores(sentences,_create_dictionary_table(article_content))"
      ],
      "execution_count": null,
      "outputs": [
        {
          "output_type": "execute_result",
          "data": {
            "text/plain": [
              "{'Data science is still the most attractive trend in Thailand nowadays.': 11.0,\n",
              " 'There are many open positions for data scientists, data engineers, and data-related roles compared to 2 years ago.': 11.0,\n",
              " 'I am one of the people who jumped into this field as well.': 15.714285714285714,\n",
              " 'I want to share with you guys my journey of switching into this field.': 11.727272727272727,\n",
              " 'The decision\\n\\nIn 2017, I was a mechanical engineer who worked in the petrochemical factory in Rayong province, Thailand.': 7.866666666666666,\n",
              " 'Typically, I was making a presentation to the management team about why the machine failed or how to prevent the machine breakdown.': 7.266666666666667,\n",
              " 'At that time, I had a chance to utilize the data to ensure and answer most technical questions.': 13.3,\n",
              " 'One day, I realized that Rayong is not a place for me to settle down.': 9.3,\n",
              " 'I wanted to go back to Bangkok, so I need to find a way to relocate myself.': 10.0,\n",
              " 'I was searching for a job, and it was hard to find a good one because my background is in mechanical engineering, and it is not that many good engineering jobs were placed in Bangkok.': 7.157894736842105,\n",
              " 'As a result, I decide to switch from the engineering field to the data field.': 18.0,\n",
              " 'Getting started\\n\\nFirstly, I had gathered information about this field, which is quite new in Thailand at that time.': 8.058823529411764,\n",
              " 'I also started to take an online course to see whether the subject was the right choice for me to move further.': 8.692307692307692,\n",
              " 'Fortunately, I took the most famous machine learning course, “Machine learning” from Standford university.': 8.583333333333334,\n",
              " 'The course was taught by Andrew Ng (Founder of the Coursera platform).': 11.11111111111111,\n",
              " 'Due to the superb explanation from Andrew Ng, every complex thing seem easy to follow and made much fun at the same time.': 7.25,\n",
              " 'I decided to take several courses after that because I feel enjoyable in this new field.': 9.357142857142858,\n",
              " 'Secondly, I entered the platform called “Kaggle.” That was a real starting point towards the data science field for me.': 9.526315789473685,\n",
              " 'I enrolled in many competitions and learned how to write the data analytics code through the kernel.': 15.0,\n",
              " 'The kernel was a good resource for a newbie to learn as much as you want.': 10.272727272727273,\n",
              " 'Several kinds of kernels accelerate your data skills, such as Exploratory data analysis (EDA), Modeling, Ensemble, Stacking, and other special data processing tips and tricks.': 8.0,\n",
              " \"Also, I took a master's degree in applied statistics during the transition phase.\": 7.666666666666667,\n",
              " 'I hope that a solid academic background can help me in landing the new opportunity.': 7.538461538461538,\n",
              " 'However, It is not that much importance as I expected to land the data science job.': 14.4,\n",
              " 'I would recommend anyone interested in this field to go for the Kaggle use cases or make it on your own.': 9.857142857142858,\n",
              " 'The solid use cases have a lot of importance here in convincing your interviewer.': 10.0,\n",
              " 'How long does it take?': 2.25,\n",
              " 'It took me about 8 to 9 months of studying and exploring the Kaggle platform before applying for a data scientist position.': 10.785714285714286,\n",
              " 'That was around the middle of 2018.': 11.625,\n",
              " 'In Thailand, there were not many open data scientist positions.': 17.25,\n",
              " 'Most of the analytics jobs remain in the Business intelligence and Analyst field.': 12.11111111111111,\n",
              " 'I thought Linkedin is a beneficial tool for you here in breaking into this field.': 12.222222222222221,\n",
              " 'In Thailand, many information technologies or data positions have been placed on Linkedin, and the recruiter is very active in finding the candidate for the job.': 9.625,\n",
              " 'I really recommend you guys to have it professionally.': 12.285714285714286,\n",
              " 'After submitted a lot of application, I interviewed several companies ranged from start-up to a limited company.': 7.923076923076923,\n",
              " 'I was lucky to have a chance to interview in the largest bank in Thailand, and I nailed it with the data scientist position.': 12.153846153846153,\n",
              " 'The Kaggle competition helps me a lot here in getting my first data scientist job because there was an interview test called “Data challenge” that you have a limited time to do the analytics/modeling tasks and present to the interviewer at the end of the day.': 7.620689655172414,\n",
              " 'The pattern and best practices I got from the Kaggle competition made me so confident and comfortable.': 8.416666666666666,\n",
              " 'What I’ve done so far\\n\\nSince then, I’ve been working as a data scientist/analyst for around 3 years.': 9.466666666666667,\n",
              " 'There are many areas I have been involved in, for example, lending, investment, insurance, hospitality, and commercial building, etc.': 6.357142857142857,\n",
              " 'The benefit of being a data scientist is that there are many chances to touch many business operations areas.': 12.818181818181818,\n",
              " 'On the other hand, the downside is that data is never cleaned.': 17.285714285714285,\n",
              " 'We have to spend most of the time sanitizing, exploring, understanding to extract meaningful insight.': 7.916666666666667,\n",
              " 'That makes me sad sometimes but the time spending worth the benefit of the analysis.': 8.666666666666666,\n",
              " 'It is so overwhelming when you see the metrics go up in the A/B testing period.': 10.875,\n",
              " 'The difference\\nCompared to when I learned from the online course and taking the Kaggle competition.': 12.0,\n",
              " 'I want to point out the difference between before and after I got the job.': 12.555555555555555,\n",
              " 'The modeling part is the most exciting and enjoyable part of all the data science tasks, but the time I have spent on it is at most 20–30 % compared to the other tasks.': 9.294117647058824,\n",
              " 'Like everyone pointed out in the data science blog, the most time-consumed task is data cleaning, and I would like to expand the scope to data understanding and correction.': 9.0,\n",
              " 'All the pretty data frame that I have seen from the Kaggle competition is not what exists in the real-life scenario.': 10.538461538461538,\n",
              " 'I need to collaborate with many parties to reach the truth about the data we have to analyze.': 11.727272727272727,\n",
              " 'There are many things to be verified before we can make a decision based on that data.': 12.5,\n",
              " 'It is not like the Kaggle competition that we have provided completed meta-data to read.': 12.454545454545455,\n",
              " 'Sometimes, nobody knows the valid and exact number of the operation process because there never glance at the data at all.': 10.5,\n",
              " 'The second time-consumed task is the back and forth process between the data analytics team and the business operating unit.': 10.333333333333334,\n",
              " 'A lot of meetings and communication play a vital part here.': 11.125,\n",
              " 'You know that the requirement can be changed on the fly based on the person you present the analysis to.': 9.3,\n",
              " 'If they have a high position enough, they can request to add anything based on their preference.': 8.23076923076923,\n",
              " 'You have to convince and recommend them wisely so that we will go through the implementation phase smoothly.': 9.88888888888889,\n",
              " 'Knowing this difference could help you guys recalibrate the expectation of doing the data science job.': 12.692307692307692,\n",
              " 'I heard many people complaining about the scope of work that it is not that fun as they are expected or how long they have to wait before they can do the modeling.': 7.3125,\n",
              " 'I hope this makes you get a clearer vision of data science daily life.': 15.1,\n",
              " 'What is next\\n\\nNow, The data field in Thailand has grown so much compared to 2 years ago.': 11.357142857142858,\n",
              " 'A lot of people have delivered their analytics use cases to the in-house business.': 10.1,\n",
              " 'The management team starts to realize the benefit of having the data team inside their own organization.': 11.25,\n",
              " 'Even if some have a misunderstanding about what the data can do, it is normal for those guys who are not in the technical fields.': 12.0,\n",
              " 'We need to keep telling them the right way to utilize the data and its importance for the business.': 12.416666666666666,\n",
              " 'For myself, I still enjoy with the day to day data operation and also look forward to expanding my expertise towards the data engineering discipline.': 10.0,\n",
              " 'When you know what the model could do, it is like you have magical tools to impact selling/recommending the products.': 7.846153846153846,\n",
              " 'However, it needs the correct data to be fed into the model to have a promising prediction result.': 11.333333333333334,\n",
              " 'Data engineering is the answer here to control the quality and integrity of the data pipeline.': 16.0,\n",
              " 'I hope this would be the right choice that leads me to the bright future ahead in this field.': 9.833333333333334,\n",
              " 'I hope this encourages you guys who are interested in switching their job/responsibility towards this field.': 11.666666666666666,\n",
              " 'I think this industry still needs many people and the community to make sustainable growth throughout the disruption.': 8.214285714285714,\n",
              " 'Let’s join and make the impact together.': 11.5}"
            ]
          },
          "metadata": {},
          "execution_count": 15
        }
      ]
    },
    {
      "cell_type": "markdown",
      "metadata": {
        "id": "Xc0mqSHj4qhp"
      },
      "source": [
        "**Calculating the threshold of the sentences**\n",
        "With this threshold, we can avoid selecting the sentences with a lower score than the average score."
      ]
    },
    {
      "cell_type": "code",
      "metadata": {
        "id": "S6m5hLTJcVLV"
      },
      "source": [
        "def _calculate_average_score(sentence_weight) -> int:\n",
        "   \n",
        "    # Calculating the average score for the sentences\n",
        "    sum_values = 0\n",
        "    for entry in sentence_weight:\n",
        "        sum_values += sentence_weight[entry]\n",
        "\n",
        "    # Getting sentence average value from source text\n",
        "    average_score = (sum_values / len(sentence_weight))\n",
        "\n",
        "    return average_score"
      ],
      "execution_count": null,
      "outputs": []
    },
    {
      "cell_type": "markdown",
      "metadata": {
        "id": "ak_d64Ck4v5y"
      },
      "source": [
        "**Getting the summary**"
      ]
    },
    {
      "cell_type": "code",
      "metadata": {
        "id": "-dJ_KPJ9cZB-"
      },
      "source": [
        "def _get_article_summary(sentences, sentence_weight, threshold):\n",
        "    sentence_counter = 0\n",
        "    article_summary = ''\n",
        "    print(threshold)\n",
        "\n",
        "    for sentence in sentences:\n",
        "        if sentence in sentence_weight and sentence_weight[sentence] >= (threshold):\n",
        "            article_summary += \"\\n\" + sentence + str(sentence_weight[sentence])\n",
        "            sentence_counter += 1\n",
        "\n",
        "    return article_summary"
      ],
      "execution_count": null,
      "outputs": []
    },
    {
      "cell_type": "code",
      "metadata": {
        "id": "AmF3mxxccjny"
      },
      "source": [
        "def _run_article_summary(article):\n",
        "    \n",
        "    #creating a dictionary for the word frequency table\n",
        "    frequency_table = _create_dictionary_table(article)\n",
        "\n",
        "    #tokenizing the sentences\n",
        "    sentences = sent_tokenize(article)\n",
        "\n",
        "    #algorithm for scoring a sentence by its words\n",
        "    sentence_scores = _calculate_sentence_scores(sentences, frequency_table)\n",
        "\n",
        "    #getting the threshold\n",
        "    threshold = _calculate_average_score(sentence_scores)\n",
        "\n",
        "    #producing the summary\n",
        "    article_summary = _get_article_summary(sentences, sentence_scores, 1.5 * threshold)\n",
        "    #1.5 is hyperparameter \n",
        "    \n",
        "    return article_summary"
      ],
      "execution_count": null,
      "outputs": []
    },
    {
      "cell_type": "code",
      "metadata": {
        "id": "QRfNcPrEcoIY",
        "colab": {
          "base_uri": "https://localhost:8080/"
        },
        "outputId": "0a8096d5-e0bc-44b8-853e-77f4df27d58e"
      },
      "source": [
        "summary_results = _run_article_summary(article_content)\n",
        "print(summary_results)"
      ],
      "execution_count": null,
      "outputs": [
        {
          "output_type": "stream",
          "name": "stdout",
          "text": [
            "15.867444678197028\n",
            "\n",
            "As a result, I decide to switch from the engineering field to the data field.18.0\n",
            "In Thailand, there were not many open data scientist positions.17.25\n",
            "On the other hand, the downside is that data is never cleaned.17.285714285714285\n",
            "Data engineering is the answer here to control the quality and integrity of the data pipeline.16.0\n"
          ]
        }
      ]
    },
    {
      "cell_type": "markdown",
      "metadata": {
        "id": "4Rb2c73G27l-"
      },
      "source": [
        "Reference: https://blog.floydhub.com/gentle-introduction-to-text-summarization-in-machine-learning/"
      ]
    }
  ]
}
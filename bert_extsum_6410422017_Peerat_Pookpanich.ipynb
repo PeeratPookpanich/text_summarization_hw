{
  "nbformat": 4,
  "nbformat_minor": 0,
  "metadata": {
    "colab": {
      "provenance": [],
      "include_colab_link": true
    },
    "kernelspec": {
      "name": "python3",
      "display_name": "Python 3"
    },
    "language_info": {
      "name": "python"
    }
  },
  "cells": [
    {
      "cell_type": "markdown",
      "metadata": {
        "id": "view-in-github",
        "colab_type": "text"
      },
      "source": [
        "<a href=\"https://colab.research.google.com/github/PeeratPookpanich/text_summarization_hw/blob/main/bert_extsum_6410422017_Peerat_Pookpanich.ipynb\" target=\"_parent\"><img src=\"https://colab.research.google.com/assets/colab-badge.svg\" alt=\"Open In Colab\"/></a>"
      ]
    },
    {
      "cell_type": "markdown",
      "source": [
        "#DADS7203 Natural Language Processing\n",
        "##6410422017 Peerat Pookpanich"
      ],
      "metadata": {
        "id": "g_fT0tLPuyF5"
      }
    },
    {
      "cell_type": "markdown",
      "source": [
        "https://pypi.org/project/bert-extractive-summarizer/"
      ],
      "metadata": {
        "id": "0OSeug8-3BJs"
      }
    },
    {
      "cell_type": "code",
      "source": [
        "!pip install bert-extractive-summarizer"
      ],
      "metadata": {
        "id": "5ZrCLTrJ18X_",
        "colab": {
          "base_uri": "https://localhost:8080/"
        },
        "outputId": "ebb8414f-d82e-44e5-a7b4-f68287958822"
      },
      "execution_count": 6,
      "outputs": [
        {
          "output_type": "stream",
          "name": "stdout",
          "text": [
            "Looking in indexes: https://pypi.org/simple, https://us-python.pkg.dev/colab-wheels/public/simple/\n",
            "Requirement already satisfied: bert-extractive-summarizer in /usr/local/lib/python3.10/dist-packages (0.10.1)\n",
            "Requirement already satisfied: transformers in /usr/local/lib/python3.10/dist-packages (from bert-extractive-summarizer) (4.29.2)\n",
            "Requirement already satisfied: scikit-learn in /usr/local/lib/python3.10/dist-packages (from bert-extractive-summarizer) (1.2.2)\n",
            "Requirement already satisfied: spacy in /usr/local/lib/python3.10/dist-packages (from bert-extractive-summarizer) (3.5.2)\n",
            "Requirement already satisfied: numpy>=1.17.3 in /usr/local/lib/python3.10/dist-packages (from scikit-learn->bert-extractive-summarizer) (1.22.4)\n",
            "Requirement already satisfied: scipy>=1.3.2 in /usr/local/lib/python3.10/dist-packages (from scikit-learn->bert-extractive-summarizer) (1.10.1)\n",
            "Requirement already satisfied: joblib>=1.1.1 in /usr/local/lib/python3.10/dist-packages (from scikit-learn->bert-extractive-summarizer) (1.2.0)\n",
            "Requirement already satisfied: threadpoolctl>=2.0.0 in /usr/local/lib/python3.10/dist-packages (from scikit-learn->bert-extractive-summarizer) (3.1.0)\n",
            "Requirement already satisfied: spacy-legacy<3.1.0,>=3.0.11 in /usr/local/lib/python3.10/dist-packages (from spacy->bert-extractive-summarizer) (3.0.12)\n",
            "Requirement already satisfied: spacy-loggers<2.0.0,>=1.0.0 in /usr/local/lib/python3.10/dist-packages (from spacy->bert-extractive-summarizer) (1.0.4)\n",
            "Requirement already satisfied: murmurhash<1.1.0,>=0.28.0 in /usr/local/lib/python3.10/dist-packages (from spacy->bert-extractive-summarizer) (1.0.9)\n",
            "Requirement already satisfied: cymem<2.1.0,>=2.0.2 in /usr/local/lib/python3.10/dist-packages (from spacy->bert-extractive-summarizer) (2.0.7)\n",
            "Requirement already satisfied: preshed<3.1.0,>=3.0.2 in /usr/local/lib/python3.10/dist-packages (from spacy->bert-extractive-summarizer) (3.0.8)\n",
            "Requirement already satisfied: thinc<8.2.0,>=8.1.8 in /usr/local/lib/python3.10/dist-packages (from spacy->bert-extractive-summarizer) (8.1.9)\n",
            "Requirement already satisfied: wasabi<1.2.0,>=0.9.1 in /usr/local/lib/python3.10/dist-packages (from spacy->bert-extractive-summarizer) (1.1.1)\n",
            "Requirement already satisfied: srsly<3.0.0,>=2.4.3 in /usr/local/lib/python3.10/dist-packages (from spacy->bert-extractive-summarizer) (2.4.6)\n",
            "Requirement already satisfied: catalogue<2.1.0,>=2.0.6 in /usr/local/lib/python3.10/dist-packages (from spacy->bert-extractive-summarizer) (2.0.8)\n",
            "Requirement already satisfied: typer<0.8.0,>=0.3.0 in /usr/local/lib/python3.10/dist-packages (from spacy->bert-extractive-summarizer) (0.7.0)\n",
            "Requirement already satisfied: pathy>=0.10.0 in /usr/local/lib/python3.10/dist-packages (from spacy->bert-extractive-summarizer) (0.10.1)\n",
            "Requirement already satisfied: smart-open<7.0.0,>=5.2.1 in /usr/local/lib/python3.10/dist-packages (from spacy->bert-extractive-summarizer) (6.3.0)\n",
            "Requirement already satisfied: tqdm<5.0.0,>=4.38.0 in /usr/local/lib/python3.10/dist-packages (from spacy->bert-extractive-summarizer) (4.65.0)\n",
            "Requirement already satisfied: requests<3.0.0,>=2.13.0 in /usr/local/lib/python3.10/dist-packages (from spacy->bert-extractive-summarizer) (2.27.1)\n",
            "Requirement already satisfied: pydantic!=1.8,!=1.8.1,<1.11.0,>=1.7.4 in /usr/local/lib/python3.10/dist-packages (from spacy->bert-extractive-summarizer) (1.10.7)\n",
            "Requirement already satisfied: jinja2 in /usr/local/lib/python3.10/dist-packages (from spacy->bert-extractive-summarizer) (3.1.2)\n",
            "Requirement already satisfied: setuptools in /usr/local/lib/python3.10/dist-packages (from spacy->bert-extractive-summarizer) (67.7.2)\n",
            "Requirement already satisfied: packaging>=20.0 in /usr/local/lib/python3.10/dist-packages (from spacy->bert-extractive-summarizer) (23.1)\n",
            "Requirement already satisfied: langcodes<4.0.0,>=3.2.0 in /usr/local/lib/python3.10/dist-packages (from spacy->bert-extractive-summarizer) (3.3.0)\n",
            "Requirement already satisfied: filelock in /usr/local/lib/python3.10/dist-packages (from transformers->bert-extractive-summarizer) (3.12.0)\n",
            "Requirement already satisfied: huggingface-hub<1.0,>=0.14.1 in /usr/local/lib/python3.10/dist-packages (from transformers->bert-extractive-summarizer) (0.14.1)\n",
            "Requirement already satisfied: pyyaml>=5.1 in /usr/local/lib/python3.10/dist-packages (from transformers->bert-extractive-summarizer) (6.0)\n",
            "Requirement already satisfied: regex!=2019.12.17 in /usr/local/lib/python3.10/dist-packages (from transformers->bert-extractive-summarizer) (2022.10.31)\n",
            "Requirement already satisfied: tokenizers!=0.11.3,<0.14,>=0.11.1 in /usr/local/lib/python3.10/dist-packages (from transformers->bert-extractive-summarizer) (0.13.3)\n",
            "Requirement already satisfied: fsspec in /usr/local/lib/python3.10/dist-packages (from huggingface-hub<1.0,>=0.14.1->transformers->bert-extractive-summarizer) (2023.4.0)\n",
            "Requirement already satisfied: typing-extensions>=3.7.4.3 in /usr/local/lib/python3.10/dist-packages (from huggingface-hub<1.0,>=0.14.1->transformers->bert-extractive-summarizer) (4.5.0)\n",
            "Requirement already satisfied: urllib3<1.27,>=1.21.1 in /usr/local/lib/python3.10/dist-packages (from requests<3.0.0,>=2.13.0->spacy->bert-extractive-summarizer) (1.26.15)\n",
            "Requirement already satisfied: certifi>=2017.4.17 in /usr/local/lib/python3.10/dist-packages (from requests<3.0.0,>=2.13.0->spacy->bert-extractive-summarizer) (2022.12.7)\n",
            "Requirement already satisfied: charset-normalizer~=2.0.0 in /usr/local/lib/python3.10/dist-packages (from requests<3.0.0,>=2.13.0->spacy->bert-extractive-summarizer) (2.0.12)\n",
            "Requirement already satisfied: idna<4,>=2.5 in /usr/local/lib/python3.10/dist-packages (from requests<3.0.0,>=2.13.0->spacy->bert-extractive-summarizer) (3.4)\n",
            "Requirement already satisfied: blis<0.8.0,>=0.7.8 in /usr/local/lib/python3.10/dist-packages (from thinc<8.2.0,>=8.1.8->spacy->bert-extractive-summarizer) (0.7.9)\n",
            "Requirement already satisfied: confection<1.0.0,>=0.0.1 in /usr/local/lib/python3.10/dist-packages (from thinc<8.2.0,>=8.1.8->spacy->bert-extractive-summarizer) (0.0.4)\n",
            "Requirement already satisfied: click<9.0.0,>=7.1.1 in /usr/local/lib/python3.10/dist-packages (from typer<0.8.0,>=0.3.0->spacy->bert-extractive-summarizer) (8.1.3)\n",
            "Requirement already satisfied: MarkupSafe>=2.0 in /usr/local/lib/python3.10/dist-packages (from jinja2->spacy->bert-extractive-summarizer) (2.1.2)\n"
          ]
        }
      ]
    },
    {
      "cell_type": "markdown",
      "source": [
        "## Import Data"
      ],
      "metadata": {
        "id": "xcQ_GSUQwI6p"
      }
    },
    {
      "cell_type": "code",
      "source": [
        "import base64\n",
        "import requests\n",
        "\n",
        "url = \"https://raw.githubusercontent.com/PeeratPookpanich/text_summarization_hw/main/Transitioning%20from%20engineering%20to%20data%20science%20in%20Bangkok%20Thailand.txt\"\n",
        "article_content = requests.get(url)\n",
        "article_content = article_content.text\n",
        "print(article_content)"
      ],
      "metadata": {
        "colab": {
          "base_uri": "https://localhost:8080/"
        },
        "id": "ZyuMBdFAvM5G",
        "outputId": "c5489677-48a0-45af-d0c4-aad4edab4326"
      },
      "execution_count": 7,
      "outputs": [
        {
          "output_type": "stream",
          "name": "stdout",
          "text": [
            "Data science is still the most attractive trend in Thailand nowadays. \r\n",
            "There are many open positions for data scientists, data engineers, and data-related roles compared to 2 years ago. \r\n",
            "I am one of the people who jumped into this field as well. I want to share with you guys my journey of switching into this field.\r\n",
            "\r\n",
            "The decision\r\n",
            "\r\n",
            "In 2017, I was a mechanical engineer who worked in the petrochemical factory in Rayong province, Thailand. \r\n",
            "Typically, I was making a presentation to the management team about why the machine failed or how to prevent the machine breakdown. \r\n",
            "At that time, I had a chance to utilize the data to ensure and answer most technical questions.\r\n",
            "\r\n",
            "One day, I realized that Rayong is not a place for me to settle down. \r\n",
            "I wanted to go back to Bangkok, so I need to find a way to relocate myself. \r\n",
            "I was searching for a job, and it was hard to find a good one because my background is in mechanical engineering, and it is not that many good engineering jobs were placed in Bangkok. \r\n",
            "As a result, I decide to switch from the engineering field to the data field.\r\n",
            "\r\n",
            "Getting started\r\n",
            "\r\n",
            "Firstly, I had gathered information about this field, which is quite new in Thailand at that time. \r\n",
            "I also started to take an online course to see whether the subject was the right choice for me to move further. \r\n",
            "Fortunately, I took the most famous machine learning course, “Machine learning” from Standford university. \r\n",
            "The course was taught by Andrew Ng (Founder of the Coursera platform). \r\n",
            "Due to the superb explanation from Andrew Ng, every complex thing seem easy to follow and made much fun at the same time. \r\n",
            "I decided to take several courses after that because I feel enjoyable in this new field.\r\n",
            "\r\n",
            "Secondly, I entered the platform called “Kaggle.” That was a real starting point towards the data science field for me. \r\n",
            "I enrolled in many competitions and learned how to write the data analytics code through the kernel. \r\n",
            "The kernel was a good resource for a newbie to learn as much as you want. \r\n",
            "Several kinds of kernels accelerate your data skills, such as Exploratory data analysis (EDA), Modeling, Ensemble, Stacking, and other special data processing tips and tricks.\r\n",
            "\r\n",
            "Also, I took a master's degree in applied statistics during the transition phase. \r\n",
            "I hope that a solid academic background can help me in landing the new opportunity. \r\n",
            "However, It is not that much importance as I expected to land the data science job. \r\n",
            "I would recommend anyone interested in this field to go for the Kaggle use cases or make it on your own. \r\n",
            "The solid use cases have a lot of importance here in convincing your interviewer.\r\n",
            "\r\n",
            "How long does it take?\r\n",
            "\r\n",
            "It took me about 8 to 9 months of studying and exploring the Kaggle platform before applying for a data scientist position. \r\n",
            "That was around the middle of 2018. In Thailand, there were not many open data scientist positions. \r\n",
            "Most of the analytics jobs remain in the Business intelligence and Analyst field. \r\n",
            "I thought Linkedin is a beneficial tool for you here in breaking into this field. \r\n",
            "In Thailand, many information technologies or data positions have been placed on Linkedin, and the recruiter is very active in finding the candidate for the job. \r\n",
            "I really recommend you guys to have it professionally.\r\n",
            "\r\n",
            "After submitted a lot of application, I interviewed several companies ranged from start-up to a limited company. \r\n",
            "I was lucky to have a chance to interview in the largest bank in Thailand, and I nailed it with the data scientist position. \r\n",
            "The Kaggle competition helps me a lot here in getting my first data scientist job because there was an interview test called “Data challenge” that you have a limited time to do the analytics/modeling tasks and present to the interviewer at the end of the day. \r\n",
            "The pattern and best practices I got from the Kaggle competition made me so confident and comfortable.\r\n",
            "\r\n",
            "What I’ve done so far\r\n",
            "\r\n",
            "Since then, I’ve been working as a data scientist/analyst for around 3 years. \r\n",
            "There are many areas I have been involved in, for example, lending, investment, insurance, hospitality, and commercial building, etc. \r\n",
            "The benefit of being a data scientist is that there are many chances to touch many business operations areas. On the other hand, the downside is that data is never cleaned. \r\n",
            "We have to spend most of the time sanitizing, exploring, understanding to extract meaningful insight. That makes me sad sometimes but the time spending worth the benefit of the analysis. \r\n",
            "It is so overwhelming when you see the metrics go up in the A/B testing period.\r\n",
            "\r\n",
            "The difference\r\n",
            "Compared to when I learned from the online course and taking the Kaggle competition. \r\n",
            "I want to point out the difference between before and after I got the job.\r\n",
            "\r\n",
            "The modeling part is the most exciting and enjoyable part of all the data science tasks, but the time I have spent on it is at most 20–30 % compared to the other tasks.\r\n",
            "\r\n",
            "Like everyone pointed out in the data science blog, the most time-consumed task is data cleaning, and I would like to expand the scope to data understanding and correction. \r\n",
            "All the pretty data frame that I have seen from the Kaggle competition is not what exists in the real-life scenario. \r\n",
            "I need to collaborate with many parties to reach the truth about the data we have to analyze. There are many things to be verified before we can make a decision based on that data. \r\n",
            "It is not like the Kaggle competition that we have provided completed meta-data to read. Sometimes, nobody knows the valid and exact number of the operation process because there never glance at the data at all.\r\n",
            "\r\n",
            "The second time-consumed task is the back and forth process between the data analytics team and the business operating unit. \r\n",
            "A lot of meetings and communication play a vital part here. You know that the requirement can be changed on the fly based on the person you present the analysis to. \r\n",
            "If they have a high position enough, they can request to add anything based on their preference. \r\n",
            "You have to convince and recommend them wisely so that we will go through the implementation phase smoothly.\r\n",
            "\r\n",
            "Knowing this difference could help you guys recalibrate the expectation of doing the data science job. \r\n",
            "I heard many people complaining about the scope of work that it is not that fun as they are expected or how long they have to wait before they can do the modeling. \r\n",
            "I hope this makes you get a clearer vision of data science daily life.\r\n",
            "\r\n",
            "What is next\r\n",
            "\r\n",
            "Now, The data field in Thailand has grown so much compared to 2 years ago. \r\n",
            "A lot of people have delivered their analytics use cases to the in-house business. \r\n",
            "The management team starts to realize the benefit of having the data team inside their own organization. \r\n",
            "Even if some have a misunderstanding about what the data can do, it is normal for those guys who are not in the technical fields.\r\n",
            "We need to keep telling them the right way to utilize the data and its importance for the business.\r\n",
            "\r\n",
            "For myself, I still enjoy with the day to day data operation and also look forward to expanding my expertise towards the data engineering discipline. \r\n",
            "When you know what the model could do, it is like you have magical tools to impact selling/recommending the products. \r\n",
            "However, it needs the correct data to be fed into the model to have a promising prediction result. \r\n",
            "Data engineering is the answer here to control the quality and integrity of the data pipeline. \r\n",
            "I hope this would be the right choice that leads me to the bright future ahead in this field.\r\n",
            "\r\n",
            "I hope this encourages you guys who are interested in switching their job/responsibility towards this field. \r\n",
            "I think this industry still needs many people and the community to make sustainable growth throughout the disruption. Let’s join and make the impact together.\n"
          ]
        }
      ]
    },
    {
      "cell_type": "markdown",
      "source": [
        "## Using multiple hidden layers as the embedding output"
      ],
      "metadata": {
        "id": "yCxevPHm2eSm"
      }
    },
    {
      "cell_type": "code",
      "source": [
        "from summarizer import Summarizer\n",
        "\n",
        "model = Summarizer()\n",
        "result = model(article_content, min_length=60)\n",
        "text_summ = ''.join(result)"
      ],
      "metadata": {
        "id": "Uw0cQZDp2sa9",
        "colab": {
          "base_uri": "https://localhost:8080/"
        },
        "outputId": "937830a6-3f58-47f2-9efa-d6e337b3ef43"
      },
      "execution_count": 11,
      "outputs": [
        {
          "output_type": "stream",
          "name": "stderr",
          "text": [
            "Some weights of the model checkpoint at bert-large-uncased were not used when initializing BertModel: ['cls.predictions.transform.dense.weight', 'cls.predictions.transform.LayerNorm.bias', 'cls.seq_relationship.weight', 'cls.predictions.transform.LayerNorm.weight', 'cls.seq_relationship.bias', 'cls.predictions.bias', 'cls.predictions.transform.dense.bias', 'cls.predictions.decoder.weight']\n",
            "- This IS expected if you are initializing BertModel from the checkpoint of a model trained on another task or with another architecture (e.g. initializing a BertForSequenceClassification model from a BertForPreTraining model).\n",
            "- This IS NOT expected if you are initializing BertModel from the checkpoint of a model that you expect to be exactly identical (initializing a BertForSequenceClassification model from a BertForSequenceClassification model).\n",
            "/usr/local/lib/python3.10/dist-packages/sklearn/cluster/_kmeans.py:870: FutureWarning: The default value of `n_init` will change from 10 to 'auto' in 1.4. Set the value of `n_init` explicitly to suppress the warning\n",
            "  warnings.warn(\n"
          ]
        }
      ]
    },
    {
      "cell_type": "code",
      "source": [
        "text_summ"
      ],
      "metadata": {
        "colab": {
          "base_uri": "https://localhost:8080/",
          "height": 157
        },
        "id": "V11kc7eq3p-6",
        "outputId": "f726341f-52e1-43af-e18a-92165eeb8f4a"
      },
      "execution_count": 13,
      "outputs": [
        {
          "output_type": "execute_result",
          "data": {
            "text/plain": [
              "'Data science is still the most attractive trend in Thailand nowadays. There are many open positions for data scientists, data engineers, and data-related roles compared to 2 years ago. I want to share with you guys my journey of switching into this field. I hope that a solid academic background can help me in landing the new opportunity. The solid use cases have a lot of importance here in convincing your interviewer. After submitted a lot of application, I interviewed several companies ranged from start-up to a limited company. The Kaggle competition helps me a lot here in getting my first data scientist job because there was an interview test called “Data challenge” that you have a limited time to do the analytics/modeling tasks and present to the interviewer at the end of the day. We have to spend most of the time sanitizing, exploring, understanding to extract meaningful insight. The modeling part is the most exciting and enjoyable part of all the data science tasks, but the time I have spent on it is at most 20–30 % compared to the other tasks. Like everyone pointed out in the data science blog, the most time-consumed task is data cleaning, and I would like to expand the scope to data understanding and correction. There are many things to be verified before we can make a decision based on that data. Knowing this difference could help you guys recalibrate the expectation of doing the data science job. We need to keep telling them the right way to utilize the data and its importance for the business. For myself, I still enjoy with the day to day data operation and also look forward to expanding my expertise towards the data engineering discipline.'"
            ],
            "application/vnd.google.colaboratory.intrinsic+json": {
              "type": "string"
            }
          },
          "metadata": {},
          "execution_count": 13
        }
      ]
    }
  ]
}